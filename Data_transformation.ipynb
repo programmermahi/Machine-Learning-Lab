{
  "nbformat": 4,
  "nbformat_minor": 0,
  "metadata": {
    "colab": {
      "provenance": [],
      "authorship_tag": "ABX9TyMm5s/NXrLYxXJ+h20FCpwA",
      "include_colab_link": true
    },
    "kernelspec": {
      "name": "python3",
      "display_name": "Python 3"
    },
    "language_info": {
      "name": "python"
    }
  },
  "cells": [
    {
      "cell_type": "markdown",
      "metadata": {
        "id": "view-in-github",
        "colab_type": "text"
      },
      "source": [
        "<a href=\"https://colab.research.google.com/github/programmermahi/Machine-Learning-Lab/blob/main/Data_transformation.ipynb\" target=\"_parent\"><img src=\"https://colab.research.google.com/assets/colab-badge.svg\" alt=\"Open In Colab\"/></a>"
      ]
    },
    {
      "cell_type": "code",
      "execution_count": null,
      "metadata": {
        "colab": {
          "base_uri": "https://localhost:8080/"
        },
        "id": "lWSE5EdP34uT",
        "outputId": "0e9a607e-232f-400a-e99d-986cd55fea67"
      },
      "outputs": [
        {
          "output_type": "stream",
          "name": "stdout",
          "text": [
            "Before sorting Continuous to Categories:\n",
            "    Age\n",
            "0    42\n",
            "1    15\n",
            "2    67\n",
            "3    55\n",
            "4     1\n",
            "5    29\n",
            "6    75\n",
            "7    89\n",
            "8     4\n",
            "9    10\n",
            "10   15\n",
            "11   38\n",
            "12   22\n",
            "13   77\n",
            "\n",
            "\n",
            "    Age         Label\n",
            "0    42         Adult\n",
            "1    15         Child\n",
            "2    67       Elderly\n",
            "3    55         Adult\n",
            "4     1  Baby/Toddler\n",
            "5    29         Adult\n",
            "6    75       Elderly\n",
            "7    89       Elderly\n",
            "8     4         Child\n",
            "9    10         Child\n",
            "10   15         Child\n",
            "11   38         Adult\n",
            "12   22         Adult\n",
            "13   77       Elderly\n",
            "Categories: \n",
            "Label\n",
            "Adult           5\n",
            "Child           4\n",
            "Elderly         4\n",
            "Baby/Toddler    1\n",
            "Name: count, dtype: int64\n"
          ]
        }
      ],
      "source": [
        "import pandas as pd\n",
        "import numpy as np\n",
        "# Creating a dummy DataFrame of 15 numbers randomly\n",
        "# ranging from 1−100 for age\n",
        "df = pd.DataFrame({'Age': [42, 15, 67, 55, 1, 29, 75, 89,4,\n",
        "10, 15, 38, 22, 77]})\n",
        "\n",
        "print(\"Before sorting Continuous to Categories:\")\n",
        "print(df)\n",
        "print(\"\\n\")\n",
        " # A column of name ’Label’ is created in DataFrame\n",
        " # Categorizing Age into 4 Categories\n",
        " # Baby/Toddler: (0,3], 0 is excluded & 3 is included\n",
        " # Elderly: (63,99], 63 is excluded & 99 is included\n",
        "df['Label'] = pd.cut(x=df['Age'], bins=[0, 3, 17, 63, 99],\n",
        "labels=['Baby/Toddler','Child', 'Adult','Elderly'])\n",
        "\n",
        "print(df)\n",
        "print(\"Categories: \")\n",
        "print(df['Label'].value_counts())"
      ]
    },
    {
      "cell_type": "code",
      "source": [],
      "metadata": {
        "id": "LaHSRyCJ5O1C"
      },
      "execution_count": null,
      "outputs": []
    }
  ]
}