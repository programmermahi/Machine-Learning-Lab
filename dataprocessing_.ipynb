{
  "nbformat": 4,
  "nbformat_minor": 0,
  "metadata": {
    "colab": {
      "provenance": [],
      "authorship_tag": "ABX9TyOWLWWzyZR75S8vnz4YqIPr",
      "include_colab_link": true
    },
    "kernelspec": {
      "name": "python3",
      "display_name": "Python 3"
    },
    "language_info": {
      "name": "python"
    }
  },
  "cells": [
    {
      "cell_type": "markdown",
      "metadata": {
        "id": "view-in-github",
        "colab_type": "text"
      },
      "source": [
        "<a href=\"https://colab.research.google.com/github/programmermahi/Machine-Learning-Lab/blob/main/dataprocessing_.ipynb\" target=\"_parent\"><img src=\"https://colab.research.google.com/assets/colab-badge.svg\" alt=\"Open In Colab\"/></a>"
      ]
    },
    {
      "cell_type": "code",
      "execution_count": 13,
      "metadata": {
        "id": "1HlBzxCbUxfq"
      },
      "outputs": [],
      "source": [
        "import pandas as pd\n",
        "\n",
        "# Load the dataset\n",
        "data = pd.read_csv('/content/synthetic_employee_data.csv')\n"
      ]
    },
    {
      "cell_type": "code",
      "source": [
        "print(data.head())\n",
        "print(data.info())\n",
        "print(data.describe())\n"
      ],
      "metadata": {
        "colab": {
          "base_uri": "https://localhost:8080/"
        },
        "id": "DYSgTuzYWT-A",
        "outputId": "b880997d-57e4-432f-ad6b-8807dabe475e"
      },
      "execution_count": 14,
      "outputs": [
        {
          "output_type": "stream",
          "name": "stdout",
          "text": [
            "  Employee_ID Employee_Name    Age      Salary  Years_at_Company  \\\n",
            "0      E00001   Alex Miller  150.0  2000000.00              29.0   \n",
            "1      E00002    Alex Smith  200.0  1500000.00              37.0   \n",
            "2      E00003   Jane Garcia    5.0  1200000.00               3.0   \n",
            "3      E00004   Emily Brown  200.0    23118.19              42.0   \n",
            "4      E00005    Mike Jones  150.0    20852.42              33.0   \n",
            "\n",
            "   Number_of_Projects  Performance_Score  Is_Manager  Works_Remotely  \\\n",
            "0                 2.0                3.0           0             0.0   \n",
            "1                 7.0                3.0           0             0.0   \n",
            "2                 3.0                3.0           0             0.0   \n",
            "3                 7.0                3.0           1             0.0   \n",
            "4                 2.0                5.0           0             0.0   \n",
            "\n",
            "    Department Education_Level Location                   Hire_Date  \n",
            "0    marketing             PHD   AUSTIN  2023-11-02 20:17:14.115619  \n",
            "1  Engineering      Highschool   BOSTON  2024-11-21 20:17:14.115619  \n",
            "2        Sales             PHD   AUSTIN  2022-11-30 20:17:14.115619  \n",
            "3           it      HIGHSCHOOL   Boston  2024-01-04 20:17:14.115619  \n",
            "4    Marketing      HIGHSCHOOL  SEATTLE  2018-05-11 20:17:14.115619  \n",
            "<class 'pandas.core.frame.DataFrame'>\n",
            "RangeIndex: 1000 entries, 0 to 999\n",
            "Data columns (total 13 columns):\n",
            " #   Column              Non-Null Count  Dtype  \n",
            "---  ------              --------------  -----  \n",
            " 0   Employee_ID         1000 non-null   object \n",
            " 1   Employee_Name       1000 non-null   object \n",
            " 2   Age                 970 non-null    float64\n",
            " 3   Salary              960 non-null    float64\n",
            " 4   Years_at_Company    940 non-null    float64\n",
            " 5   Number_of_Projects  975 non-null    float64\n",
            " 6   Performance_Score   980 non-null    float64\n",
            " 7   Is_Manager          1000 non-null   int64  \n",
            " 8   Works_Remotely      975 non-null    float64\n",
            " 9   Department          970 non-null    object \n",
            " 10  Education_Level     975 non-null    object \n",
            " 11  Location            980 non-null    object \n",
            " 12  Hire_Date           970 non-null    object \n",
            "dtypes: float64(6), int64(1), object(6)\n",
            "memory usage: 101.7+ KB\n",
            "None\n",
            "              Age        Salary  Years_at_Company  Number_of_Projects  \\\n",
            "count  970.000000  9.600000e+02        940.000000          975.000000   \n",
            "mean    40.769072  2.943139e+04         10.202128            4.006154   \n",
            "std     15.501599  8.897510e+04          4.241586            2.048178   \n",
            "min      1.000000  3.882700e+03          0.000000            0.000000   \n",
            "25%     32.000000  1.555051e+04          8.000000            3.000000   \n",
            "50%     40.000000  2.212029e+04         10.000000            4.000000   \n",
            "75%     48.000000  3.065962e+04         13.000000            5.000000   \n",
            "max    200.000000  2.000000e+06         42.000000           12.000000   \n",
            "\n",
            "       Performance_Score   Is_Manager  Works_Remotely  \n",
            "count         980.000000  1000.000000      975.000000  \n",
            "mean            2.990816     0.207000        0.304615  \n",
            "std             1.120392     0.405358        0.460481  \n",
            "min             1.000000     0.000000        0.000000  \n",
            "25%             2.000000     0.000000        0.000000  \n",
            "50%             3.000000     0.000000        0.000000  \n",
            "75%             4.000000     0.000000        1.000000  \n",
            "max             5.000000     1.000000        1.000000  \n"
          ]
        }
      ]
    },
    {
      "cell_type": "code",
      "source": [
        "# Check for missing values\n",
        "missing_values = data.isnull().sum()\n",
        "print(missing_values)\n"
      ],
      "metadata": {
        "colab": {
          "base_uri": "https://localhost:8080/"
        },
        "id": "viDWe_r8Xlu3",
        "outputId": "2c8ec94e-01aa-49aa-d3fa-f12c06558fc1"
      },
      "execution_count": 25,
      "outputs": [
        {
          "output_type": "stream",
          "name": "stdout",
          "text": [
            "Employee_ID            0\n",
            "Employee_Name          0\n",
            "Age                    0\n",
            "Salary                 0\n",
            "Years_at_Company       0\n",
            "Number_of_Projects     0\n",
            "Performance_Score      0\n",
            "Is_Manager             0\n",
            "Works_Remotely         0\n",
            "Department            30\n",
            "Education_Level       25\n",
            "Location              20\n",
            "Hire_Date             30\n",
            "dtype: int64\n"
          ]
        }
      ]
    },
    {
      "cell_type": "code",
      "source": [
        "# Check for missing values\n",
        "missing_values = data.isnull().sum()\n",
        "print(missing_values)"
      ],
      "metadata": {
        "colab": {
          "base_uri": "https://localhost:8080/"
        },
        "id": "34eoLAY0XxhI",
        "outputId": "3f7e6942-de3a-4c62-8dde-df4545e34c92"
      },
      "execution_count": 32,
      "outputs": [
        {
          "output_type": "stream",
          "name": "stdout",
          "text": [
            "Employee_ID            0\n",
            "Employee_Name          0\n",
            "Age                    0\n",
            "Salary                 0\n",
            "Years_at_Company       0\n",
            "Number_of_Projects     0\n",
            "Performance_Score      0\n",
            "Is_Manager             0\n",
            "Works_Remotely         0\n",
            "Department            30\n",
            "Education_Level       25\n",
            "Location              20\n",
            "Hire_Date             30\n",
            "dtype: int64\n"
          ]
        }
      ]
    },
    {
      "cell_type": "code",
      "source": [
        "# Drop rows with missing values\n",
        "data.dropna(inplace=True)\n",
        "# Check for missing values\n",
        "missing_values = data.isnull().sum()\n",
        "print(missing_values)"
      ],
      "metadata": {
        "colab": {
          "base_uri": "https://localhost:8080/"
        },
        "id": "fJsgqHb1aJo2",
        "outputId": "2fbdbc2e-3625-4c80-b194-62c3e378f3bb"
      },
      "execution_count": 35,
      "outputs": [
        {
          "output_type": "stream",
          "name": "stdout",
          "text": [
            "Employee_ID           0\n",
            "Employee_Name         0\n",
            "Age                   0\n",
            "Salary                0\n",
            "Years_at_Company      0\n",
            "Number_of_Projects    0\n",
            "Performance_Score     0\n",
            "Is_Manager            0\n",
            "Works_Remotely        0\n",
            "Department            0\n",
            "Education_Level       0\n",
            "Location              0\n",
            "Hire_Date             0\n",
            "dtype: int64\n"
          ]
        }
      ]
    },
    {
      "cell_type": "code",
      "source": [
        "# One-hot encoding for categorical variables\n",
        "data = pd.get_dummies(data, drop_first=True)"
      ],
      "metadata": {
        "id": "mLRLJor9amQE"
      },
      "execution_count": 37,
      "outputs": []
    },
    {
      "cell_type": "code",
      "source": [
        "# One-hot encoding for categorical variables\n",
        "data = pd.get_dummies(data, drop_first=True)"
      ],
      "metadata": {
        "id": "AZFAt7PRa4r8"
      },
      "execution_count": 38,
      "outputs": []
    },
    {
      "cell_type": "code",
      "metadata": {
        "colab": {
          "base_uri": "https://localhost:8080/"
        },
        "id": "5291f0a9",
        "outputId": "569b47c1-eb50-46cf-fc8e-45b1321f48d1"
      },
      "source": [
        "from sklearn.model_selection import train_test_split\n",
        "\n",
        "# Define features (X) and target (y)\n",
        "# Assuming 'Salary' is the target variable\n",
        "X = data.drop('Salary', axis=1)\n",
        "y = data['Salary']\n",
        "\n",
        "# Split data into training and testing sets\n",
        "X_train, X_test, y_train, y_test = train_test_split(X, y, test_size=0.2, random_state=42)\n",
        "\n",
        "print(\"X_train shape:\", X_train.shape)\n",
        "print(\"X_test shape:\", X_test.shape)\n",
        "print(\"y_train shape:\", y_train.shape)\n",
        "print(\"y_test shape:\", y_test.shape)"
      ],
      "execution_count": 43,
      "outputs": [
        {
          "output_type": "stream",
          "name": "stdout",
          "text": [
            "X_train shape: (720, 1792)\n",
            "X_test shape: (181, 1792)\n",
            "y_train shape: (720,)\n",
            "y_test shape: (181,)\n"
          ]
        }
      ]
    },
    {
      "cell_type": "code",
      "source": [
        "from sklearn.preprocessing import StandardScaler\n",
        "\n",
        "scaler = StandardScaler()\n",
        "\n",
        "# Scale the training data and transform both training and testing data\n",
        "X_train_scaled = scaler.fit_transform(X_train)\n",
        "X_test_scaled = scaler.transform(X_test)\n",
        "\n",
        "print(\"X_train_scaled shape:\", X_train_scaled.shape)\n",
        "print(\"X_test_scaled shape:\", X_test_scaled.shape)"
      ],
      "metadata": {
        "colab": {
          "base_uri": "https://localhost:8080/"
        },
        "id": "Xue8v44Obqz8",
        "outputId": "96adf7ad-57eb-4b50-a2bc-9562d50127ba"
      },
      "execution_count": 44,
      "outputs": [
        {
          "output_type": "stream",
          "name": "stdout",
          "text": [
            "X_train_scaled shape: (720, 1792)\n",
            "X_test_scaled shape: (181, 1792)\n"
          ]
        }
      ]
    },
    {
      "cell_type": "code",
      "source": [],
      "metadata": {
        "id": "2IIaneYBcHKz"
      },
      "execution_count": null,
      "outputs": []
    }
  ]
}