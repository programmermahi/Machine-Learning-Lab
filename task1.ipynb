{
  "nbformat": 4,
  "nbformat_minor": 0,
  "metadata": {
    "colab": {
      "provenance": [],
      "authorship_tag": "ABX9TyMZvYO7dlzneHAOyV73q7AO",
      "include_colab_link": true
    },
    "kernelspec": {
      "name": "python3",
      "display_name": "Python 3"
    },
    "language_info": {
      "name": "python"
    }
  },
  "cells": [
    {
      "cell_type": "markdown",
      "metadata": {
        "id": "view-in-github",
        "colab_type": "text"
      },
      "source": [
        "<a href=\"https://colab.research.google.com/github/programmermahi/Machine-Learning-Lab/blob/main/task1.ipynb\" target=\"_parent\"><img src=\"https://colab.research.google.com/assets/colab-badge.svg\" alt=\"Open In Colab\"/></a>"
      ]
    },
    {
      "cell_type": "code",
      "execution_count": null,
      "metadata": {
        "colab": {
          "base_uri": "https://localhost:8080/",
          "height": 391
        },
        "id": "ww8cnQIv87pO",
        "outputId": "1c67243b-3cd6-472d-9112-fdf11d5047f4"
      },
      "outputs": [
        {
          "output_type": "stream",
          "name": "stdout",
          "text": [
            "Original Data (with nulls):\n"
          ]
        },
        {
          "output_type": "error",
          "ename": "KeyError",
          "evalue": "\"None of [Index(['age', 'embarked', 'sex'], dtype='object')] are in the [columns]\"",
          "traceback": [
            "\u001b[0;31m---------------------------------------------------------------------------\u001b[0m",
            "\u001b[0;31mKeyError\u001b[0m                                  Traceback (most recent call last)",
            "\u001b[0;32m/tmp/ipython-input-2-727449296.py\u001b[0m in \u001b[0;36m<cell line: 0>\u001b[0;34m()\u001b[0m\n\u001b[1;32m      7\u001b[0m \u001b[0;31m# Display original dataset with nulls\u001b[0m\u001b[0;34m\u001b[0m\u001b[0;34m\u001b[0m\u001b[0m\n\u001b[1;32m      8\u001b[0m \u001b[0mprint\u001b[0m\u001b[0;34m(\u001b[0m\u001b[0;34m\"Original Data (with nulls):\"\u001b[0m\u001b[0;34m)\u001b[0m\u001b[0;34m\u001b[0m\u001b[0;34m\u001b[0m\u001b[0m\n\u001b[0;32m----> 9\u001b[0;31m \u001b[0mprint\u001b[0m\u001b[0;34m(\u001b[0m\u001b[0mdf\u001b[0m\u001b[0;34m[\u001b[0m\u001b[0;34m[\u001b[0m\u001b[0;34m'age'\u001b[0m\u001b[0;34m,\u001b[0m \u001b[0;34m'embarked'\u001b[0m\u001b[0;34m,\u001b[0m \u001b[0;34m'sex'\u001b[0m\u001b[0;34m]\u001b[0m\u001b[0;34m]\u001b[0m\u001b[0;34m.\u001b[0m\u001b[0mhead\u001b[0m\u001b[0;34m(\u001b[0m\u001b[0;36m10\u001b[0m\u001b[0;34m)\u001b[0m\u001b[0;34m)\u001b[0m\u001b[0;34m\u001b[0m\u001b[0;34m\u001b[0m\u001b[0m\n\u001b[0m\u001b[1;32m     10\u001b[0m \u001b[0;34m\u001b[0m\u001b[0m\n\u001b[1;32m     11\u001b[0m \u001b[0;31m# ---------- STEP 1: Impute Nulls in Numeric Columns ----------\u001b[0m\u001b[0;34m\u001b[0m\u001b[0;34m\u001b[0m\u001b[0m\n",
            "\u001b[0;32m/usr/local/lib/python3.11/dist-packages/pandas/core/frame.py\u001b[0m in \u001b[0;36m__getitem__\u001b[0;34m(self, key)\u001b[0m\n\u001b[1;32m   4106\u001b[0m             \u001b[0;32mif\u001b[0m \u001b[0mis_iterator\u001b[0m\u001b[0;34m(\u001b[0m\u001b[0mkey\u001b[0m\u001b[0;34m)\u001b[0m\u001b[0;34m:\u001b[0m\u001b[0;34m\u001b[0m\u001b[0;34m\u001b[0m\u001b[0m\n\u001b[1;32m   4107\u001b[0m                 \u001b[0mkey\u001b[0m \u001b[0;34m=\u001b[0m \u001b[0mlist\u001b[0m\u001b[0;34m(\u001b[0m\u001b[0mkey\u001b[0m\u001b[0;34m)\u001b[0m\u001b[0;34m\u001b[0m\u001b[0;34m\u001b[0m\u001b[0m\n\u001b[0;32m-> 4108\u001b[0;31m             \u001b[0mindexer\u001b[0m \u001b[0;34m=\u001b[0m \u001b[0mself\u001b[0m\u001b[0;34m.\u001b[0m\u001b[0mcolumns\u001b[0m\u001b[0;34m.\u001b[0m\u001b[0m_get_indexer_strict\u001b[0m\u001b[0;34m(\u001b[0m\u001b[0mkey\u001b[0m\u001b[0;34m,\u001b[0m \u001b[0;34m\"columns\"\u001b[0m\u001b[0;34m)\u001b[0m\u001b[0;34m[\u001b[0m\u001b[0;36m1\u001b[0m\u001b[0;34m]\u001b[0m\u001b[0;34m\u001b[0m\u001b[0;34m\u001b[0m\u001b[0m\n\u001b[0m\u001b[1;32m   4109\u001b[0m \u001b[0;34m\u001b[0m\u001b[0m\n\u001b[1;32m   4110\u001b[0m         \u001b[0;31m# take() does not accept boolean indexers\u001b[0m\u001b[0;34m\u001b[0m\u001b[0;34m\u001b[0m\u001b[0m\n",
            "\u001b[0;32m/usr/local/lib/python3.11/dist-packages/pandas/core/indexes/base.py\u001b[0m in \u001b[0;36m_get_indexer_strict\u001b[0;34m(self, key, axis_name)\u001b[0m\n\u001b[1;32m   6198\u001b[0m             \u001b[0mkeyarr\u001b[0m\u001b[0;34m,\u001b[0m \u001b[0mindexer\u001b[0m\u001b[0;34m,\u001b[0m \u001b[0mnew_indexer\u001b[0m \u001b[0;34m=\u001b[0m \u001b[0mself\u001b[0m\u001b[0;34m.\u001b[0m\u001b[0m_reindex_non_unique\u001b[0m\u001b[0;34m(\u001b[0m\u001b[0mkeyarr\u001b[0m\u001b[0;34m)\u001b[0m\u001b[0;34m\u001b[0m\u001b[0;34m\u001b[0m\u001b[0m\n\u001b[1;32m   6199\u001b[0m \u001b[0;34m\u001b[0m\u001b[0m\n\u001b[0;32m-> 6200\u001b[0;31m         \u001b[0mself\u001b[0m\u001b[0;34m.\u001b[0m\u001b[0m_raise_if_missing\u001b[0m\u001b[0;34m(\u001b[0m\u001b[0mkeyarr\u001b[0m\u001b[0;34m,\u001b[0m \u001b[0mindexer\u001b[0m\u001b[0;34m,\u001b[0m \u001b[0maxis_name\u001b[0m\u001b[0;34m)\u001b[0m\u001b[0;34m\u001b[0m\u001b[0;34m\u001b[0m\u001b[0m\n\u001b[0m\u001b[1;32m   6201\u001b[0m \u001b[0;34m\u001b[0m\u001b[0m\n\u001b[1;32m   6202\u001b[0m         \u001b[0mkeyarr\u001b[0m \u001b[0;34m=\u001b[0m \u001b[0mself\u001b[0m\u001b[0;34m.\u001b[0m\u001b[0mtake\u001b[0m\u001b[0;34m(\u001b[0m\u001b[0mindexer\u001b[0m\u001b[0;34m)\u001b[0m\u001b[0;34m\u001b[0m\u001b[0;34m\u001b[0m\u001b[0m\n",
            "\u001b[0;32m/usr/local/lib/python3.11/dist-packages/pandas/core/indexes/base.py\u001b[0m in \u001b[0;36m_raise_if_missing\u001b[0;34m(self, key, indexer, axis_name)\u001b[0m\n\u001b[1;32m   6247\u001b[0m         \u001b[0;32mif\u001b[0m \u001b[0mnmissing\u001b[0m\u001b[0;34m:\u001b[0m\u001b[0;34m\u001b[0m\u001b[0;34m\u001b[0m\u001b[0m\n\u001b[1;32m   6248\u001b[0m             \u001b[0;32mif\u001b[0m \u001b[0mnmissing\u001b[0m \u001b[0;34m==\u001b[0m \u001b[0mlen\u001b[0m\u001b[0;34m(\u001b[0m\u001b[0mindexer\u001b[0m\u001b[0;34m)\u001b[0m\u001b[0;34m:\u001b[0m\u001b[0;34m\u001b[0m\u001b[0;34m\u001b[0m\u001b[0m\n\u001b[0;32m-> 6249\u001b[0;31m                 \u001b[0;32mraise\u001b[0m \u001b[0mKeyError\u001b[0m\u001b[0;34m(\u001b[0m\u001b[0;34mf\"None of [{key}] are in the [{axis_name}]\"\u001b[0m\u001b[0;34m)\u001b[0m\u001b[0;34m\u001b[0m\u001b[0;34m\u001b[0m\u001b[0m\n\u001b[0m\u001b[1;32m   6250\u001b[0m \u001b[0;34m\u001b[0m\u001b[0m\n\u001b[1;32m   6251\u001b[0m             \u001b[0mnot_found\u001b[0m \u001b[0;34m=\u001b[0m \u001b[0mlist\u001b[0m\u001b[0;34m(\u001b[0m\u001b[0mensure_index\u001b[0m\u001b[0;34m(\u001b[0m\u001b[0mkey\u001b[0m\u001b[0;34m)\u001b[0m\u001b[0;34m[\u001b[0m\u001b[0mmissing_mask\u001b[0m\u001b[0;34m.\u001b[0m\u001b[0mnonzero\u001b[0m\u001b[0;34m(\u001b[0m\u001b[0;34m)\u001b[0m\u001b[0;34m[\u001b[0m\u001b[0;36m0\u001b[0m\u001b[0;34m]\u001b[0m\u001b[0;34m]\u001b[0m\u001b[0;34m.\u001b[0m\u001b[0munique\u001b[0m\u001b[0;34m(\u001b[0m\u001b[0;34m)\u001b[0m\u001b[0;34m)\u001b[0m\u001b[0;34m\u001b[0m\u001b[0;34m\u001b[0m\u001b[0m\n",
            "\u001b[0;31mKeyError\u001b[0m: \"None of [Index(['age', 'embarked', 'sex'], dtype='object')] are in the [columns]\""
          ]
        }
      ],
      "source": [
        "import pandas as pd\n",
        "import pandas as pd\n",
        "\n",
        "# Load a sample dataset (you can replace this with pd.read_csv('your_file.csv'))\n",
        "df = pd.read_csv('/content/train.csv')\n",
        "\n",
        "# Display original dataset with nulls\n",
        "print(\"Original Data (with nulls):\")\n",
        "print(df[['age', 'embarked', 'sex']].head(10))\n",
        "\n",
        "# ---------- STEP 1: Impute Nulls in Numeric Columns ----------\n",
        "# Fill NaN in 'age' using average of previous and next values\n",
        "def impute_avg_prev_next(series):\n",
        "    for i in range(1, len(series) - 1):\n",
        "        if pd.isnull(series[i]):\n",
        "            if not pd.isnull(series[i-1]) and not pd.isnull(series[i+1]):\n",
        "                series[i] = (series[i-1] + series[i+1]) / 2\n",
        "    return series\n",
        "\n",
        "df['age'] = impute_avg_prev_next(df['age'])\n",
        "\n",
        "# ---------- STEP 2: One-Hot Encoding of Categorical Columns ----------\n",
        "# Fill any missing categorical value temporarily for encoding\n",
        "df['embarked'].fillna('Unknown', inplace=True)\n",
        "\n",
        "# Convert categorical columns to numeric using one-hot encoding\n",
        "df_encoded = pd.get_dummies(df, columns=['sex', 'embarked'], drop_first=True)\n",
        "\n",
        "# ---------- Output ----------\n",
        "print(\"\\nImputed and Encoded Data:\")\n",
        "print(df_encoded[['age', 'sex_male', 'embarked_Q', 'embarked_S']].head(10))\n"
      ]
    },
    {
      "cell_type": "code",
      "execution_count": null,
      "metadata": {
        "colab": {
          "base_uri": "https://localhost:8080/"
        },
        "outputId": "0e9a607e-232f-400a-e99d-986cd55fea67",
        "id": "Gl6-XfDj9e-M"
      },
      "outputs": [
        {
          "output_type": "stream",
          "name": "stdout",
          "text": [
            "Before sorting Continuous to Categories:\n",
            "    Age\n",
            "0    42\n",
            "1    15\n",
            "2    67\n",
            "3    55\n",
            "4     1\n",
            "5    29\n",
            "6    75\n",
            "7    89\n",
            "8     4\n",
            "9    10\n",
            "10   15\n",
            "11   38\n",
            "12   22\n",
            "13   77\n",
            "\n",
            "\n",
            "    Age         Label\n",
            "0    42         Adult\n",
            "1    15         Child\n",
            "2    67       Elderly\n",
            "3    55         Adult\n",
            "4     1  Baby/Toddler\n",
            "5    29         Adult\n",
            "6    75       Elderly\n",
            "7    89       Elderly\n",
            "8     4         Child\n",
            "9    10         Child\n",
            "10   15         Child\n",
            "11   38         Adult\n",
            "12   22         Adult\n",
            "13   77       Elderly\n",
            "Categories: \n",
            "Label\n",
            "Adult           5\n",
            "Child           4\n",
            "Elderly         4\n",
            "Baby/Toddler    1\n",
            "Name: count, dtype: int64\n"
          ]
        }
      ],
      "source": [
        "import pandas as pd\n",
        "import numpy as np\n",
        "\n",
        "# Creating a dummy DataFrame of 15 numbers randomly\n",
        "# ranging from 1−100 for age\n",
        "df = pd.DataFrame({'Age': [42, 15, 67, 55, 1, 29, 75, 89,4,\n",
        "10, 15, 38, 22, 77]})\n",
        "\n",
        "# Printing DataFrame Before sorting Continuous\n",
        " # to Categories\n",
        "\n",
        "print(\"Before sorting Continuous to Categories:\")\n",
        "print(df)\n",
        "print(\"\\n\")\n",
        " # A column of name ’Label’ is created in DataFrame\n",
        " # Categorizing Age into 4 Categories\n",
        " # Baby/Toddler: (0,3], 0 is excluded & 3 is included\n",
        " # Child: (3,17], 3 is excluded & 17 is included\n",
        " # Adult: (17,63], 17 is excluded & 63 is included\n",
        " # Elderly: (63,99], 63 is excluded & 99 is included\n",
        "df['Label'] = pd.cut(x=df['Age'], bins=[0, 3, 17, 63, 99],\n",
        "labels=['Baby/Toddler','Child', 'Adult','Elderly'])\n",
        "\n",
        " # Printing DataFrame after sorting Continuous to\n",
        " # Categories\n",
        "print(df)\n",
        "\n",
        "# Check the number of values in each bin\n",
        "print(\"Categories: \")\n",
        "print(df['Label'].value_counts())"
      ]
    },
    {
      "cell_type": "code",
      "execution_count": null,
      "metadata": {
        "colab": {
          "base_uri": "https://localhost:8080/"
        },
        "id": "lWSE5EdP34uT",
        "outputId": "0e9a607e-232f-400a-e99d-986cd55fea67"
      },
      "outputs": [
        {
          "output_type": "stream",
          "name": "stdout",
          "text": [
            "Before sorting Continuous to Categories:\n",
            "    Age\n",
            "0    42\n",
            "1    15\n",
            "2    67\n",
            "3    55\n",
            "4     1\n",
            "5    29\n",
            "6    75\n",
            "7    89\n",
            "8     4\n",
            "9    10\n",
            "10   15\n",
            "11   38\n",
            "12   22\n",
            "13   77\n",
            "\n",
            "\n",
            "    Age         Label\n",
            "0    42         Adult\n",
            "1    15         Child\n",
            "2    67       Elderly\n",
            "3    55         Adult\n",
            "4     1  Baby/Toddler\n",
            "5    29         Adult\n",
            "6    75       Elderly\n",
            "7    89       Elderly\n",
            "8     4         Child\n",
            "9    10         Child\n",
            "10   15         Child\n",
            "11   38         Adult\n",
            "12   22         Adult\n",
            "13   77       Elderly\n",
            "Categories: \n",
            "Label\n",
            "Adult           5\n",
            "Child           4\n",
            "Elderly         4\n",
            "Baby/Toddler    1\n",
            "Name: count, dtype: int64\n"
          ]
        }
      ],
      "source": []
    }
  ]
}